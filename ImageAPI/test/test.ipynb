{
 "cells": [
  {
   "cell_type": "code",
   "execution_count": 1,
   "metadata": {},
   "outputs": [
    {
     "data": {
      "text/html": [
       "<img src=\"https://images.unsplash.com/photo-1683009427042-e094996f9780?crop=entropy&cs=tinysrgb&fit=max&fm=jpg&ixid=M3w1MDI4OTZ8MXwxfHNlYXJjaHwxfHxtb3VudGFpbnN8ZW58MHx8fHwxNjk0ODQ3MDY3fDA&ixlib=rb-4.0.3&q=80&w=400\"/>"
      ],
      "text/plain": [
       "<IPython.core.display.Image object>"
      ]
     },
     "metadata": {},
     "output_type": "display_data"
    },
    {
     "data": {
      "text/html": [
       "<img src=\"https://images.unsplash.com/photo-1506905925346-21bda4d32df4?crop=entropy&cs=tinysrgb&fit=max&fm=jpg&ixid=M3w1MDI4OTZ8MHwxfHNlYXJjaHwyfHxtb3VudGFpbnN8ZW58MHx8fHwxNjk0ODQ3MDY3fDA&ixlib=rb-4.0.3&q=80&w=400\"/>"
      ],
      "text/plain": [
       "<IPython.core.display.Image object>"
      ]
     },
     "metadata": {},
     "output_type": "display_data"
    },
    {
     "data": {
      "text/html": [
       "<img src=\"https://images.unsplash.com/photo-1454496522488-7a8e488e8606?crop=entropy&cs=tinysrgb&fit=max&fm=jpg&ixid=M3w1MDI4OTZ8MHwxfHNlYXJjaHwzfHxtb3VudGFpbnN8ZW58MHx8fHwxNjk0ODQ3MDY3fDA&ixlib=rb-4.0.3&q=80&w=400\"/>"
      ],
      "text/plain": [
       "<IPython.core.display.Image object>"
      ]
     },
     "metadata": {},
     "output_type": "display_data"
    },
    {
     "data": {
      "text/html": [
       "<img src=\"https://images.unsplash.com/photo-1464822759023-fed622ff2c3b?crop=entropy&cs=tinysrgb&fit=max&fm=jpg&ixid=M3w1MDI4OTZ8MHwxfHNlYXJjaHw0fHxtb3VudGFpbnN8ZW58MHx8fHwxNjk0ODQ3MDY3fDA&ixlib=rb-4.0.3&q=80&w=400\"/>"
      ],
      "text/plain": [
       "<IPython.core.display.Image object>"
      ]
     },
     "metadata": {},
     "output_type": "display_data"
    },
    {
     "data": {
      "text/html": [
       "<img src=\"https://images.unsplash.com/photo-1500534314209-a25ddb2bd429?crop=entropy&cs=tinysrgb&fit=max&fm=jpg&ixid=M3w1MDI4OTZ8MHwxfHNlYXJjaHw1fHxtb3VudGFpbnN8ZW58MHx8fHwxNjk0ODQ3MDY3fDA&ixlib=rb-4.0.3&q=80&w=400\"/>"
      ],
      "text/plain": [
       "<IPython.core.display.Image object>"
      ]
     },
     "metadata": {},
     "output_type": "display_data"
    },
    {
     "data": {
      "text/html": [
       "<img src=\"https://images.unsplash.com/photo-1519681393784-d120267933ba?crop=entropy&cs=tinysrgb&fit=max&fm=jpg&ixid=M3w1MDI4OTZ8MHwxfHNlYXJjaHw2fHxtb3VudGFpbnN8ZW58MHx8fHwxNjk0ODQ3MDY3fDA&ixlib=rb-4.0.3&q=80&w=400\"/>"
      ],
      "text/plain": [
       "<IPython.core.display.Image object>"
      ]
     },
     "metadata": {},
     "output_type": "display_data"
    },
    {
     "data": {
      "text/html": [
       "<img src=\"https://images.unsplash.com/photo-1570641963303-92ce4845ed4c?crop=entropy&cs=tinysrgb&fit=max&fm=jpg&ixid=M3w1MDI4OTZ8MHwxfHNlYXJjaHw3fHxtb3VudGFpbnN8ZW58MHx8fHwxNjk0ODQ3MDY3fDA&ixlib=rb-4.0.3&q=80&w=400\"/>"
      ],
      "text/plain": [
       "<IPython.core.display.Image object>"
      ]
     },
     "metadata": {},
     "output_type": "display_data"
    },
    {
     "data": {
      "text/html": [
       "<img src=\"https://images.unsplash.com/photo-1682687220063-4742bd7fd538?crop=entropy&cs=tinysrgb&fit=max&fm=jpg&ixid=M3w1MDI4OTZ8MXwxfHNlYXJjaHw4fHxtb3VudGFpbnN8ZW58MHx8fHwxNjk0ODQ3MDY3fDA&ixlib=rb-4.0.3&q=80&w=400\"/>"
      ],
      "text/plain": [
       "<IPython.core.display.Image object>"
      ]
     },
     "metadata": {},
     "output_type": "display_data"
    },
    {
     "data": {
      "text/html": [
       "<img src=\"https://images.unsplash.com/photo-1486870591958-9b9d0d1dda99?crop=entropy&cs=tinysrgb&fit=max&fm=jpg&ixid=M3w1MDI4OTZ8MHwxfHNlYXJjaHw5fHxtb3VudGFpbnN8ZW58MHx8fHwxNjk0ODQ3MDY3fDA&ixlib=rb-4.0.3&q=80&w=400\"/>"
      ],
      "text/plain": [
       "<IPython.core.display.Image object>"
      ]
     },
     "metadata": {},
     "output_type": "display_data"
    },
    {
     "data": {
      "text/html": [
       "<img src=\"https://images.unsplash.com/photo-1542224566-6e85f2e6772f?crop=entropy&cs=tinysrgb&fit=max&fm=jpg&ixid=M3w1MDI4OTZ8MHwxfHNlYXJjaHwxMHx8bW91bnRhaW5zfGVufDB8fHx8MTY5NDg0NzA2N3ww&ixlib=rb-4.0.3&q=80&w=400\"/>"
      ],
      "text/plain": [
       "<IPython.core.display.Image object>"
      ]
     },
     "metadata": {},
     "output_type": "display_data"
    }
   ],
   "source": [
    "from IPython.display import display, Image\n",
    "import requests\n",
    "\n",
    "# 设置API密钥\n",
    "API_KEY = 'wAnuGRsDgloyh9l0LYskg49Gh_27wwUpNYgisX9GZn4'\n",
    "\n",
    "def search_unsplash(query, page=1, per_page=10):\n",
    "    \"\"\"在Unsplash上搜索图片\"\"\"\n",
    "    base_url = \"https://api.unsplash.com/search/photos\"\n",
    "    headers = {\n",
    "        \"Authorization\": f\"Client-ID {API_KEY}\"\n",
    "    }\n",
    "    params = {\n",
    "        \"query\": query,\n",
    "        \"page\": page,\n",
    "        \"per_page\": per_page\n",
    "    }\n",
    "    response = requests.get(base_url, headers=headers, params=params)\n",
    "    \n",
    "    if response.status_code == 200:\n",
    "        return response.json()\n",
    "    else:\n",
    "        response.raise_for_status()\n",
    "\n",
    "# 使用示例\n",
    "if __name__ == \"__main__\":\n",
    "    query = \"mountains\"\n",
    "    results = search_unsplash(query)\n",
    "    \n",
    "    for photo in results['results']:\n",
    "        display(Image(url=photo['urls']['small']))\n"
   ]
  }
 ],
 "metadata": {
  "kernelspec": {
   "display_name": "Python 3",
   "language": "python",
   "name": "python3"
  },
  "language_info": {
   "codemirror_mode": {
    "name": "ipython",
    "version": 3
   },
   "file_extension": ".py",
   "mimetype": "text/x-python",
   "name": "python",
   "nbconvert_exporter": "python",
   "pygments_lexer": "ipython3",
   "version": "3.11.5"
  },
  "orig_nbformat": 4
 },
 "nbformat": 4,
 "nbformat_minor": 2
}
